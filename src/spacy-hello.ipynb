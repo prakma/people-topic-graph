{
 "cells": [
  {
   "cell_type": "code",
   "execution_count": 1,
   "metadata": {
    "collapsed": false
   },
   "outputs": [
    {
     "name": "stdout",
     "output_type": "stream",
     "text": [
      "hello spacy\n"
     ]
    }
   ],
   "source": [
    "print 'hello spacy'"
   ]
  },
  {
   "cell_type": "code",
   "execution_count": 3,
   "metadata": {
    "collapsed": true
   },
   "outputs": [],
   "source": [
    "import spacy\n",
    "nlp = spacy.load('en')"
   ]
  },
  {
   "cell_type": "code",
   "execution_count": 34,
   "metadata": {
    "collapsed": false
   },
   "outputs": [
    {
     "name": "stdout",
     "output_type": "stream",
     "text": [
      "Rick PERSON [u'NNP']\n",
      "Mexico GPE [u'NNP']\n",
      "Pastoria GPE [u'NNP']\n",
      "LV Cogen ORG [u'NNP', u'NNP']\n",
      "ECP ORG [u'NNP']\n",
      "HPL ORG [u'NNP']\n"
     ]
    }
   ],
   "source": [
    "example1 = u'''Rick, I need your view on which of these deals need to go through the board:\n",
    "\n",
    " - Tex Mex (ERCOT to Mexico transmission line with term PPA with Desarco)\n",
    " - Ahlstrom (QF Purchase)\n",
    " - CRRA/Fuel Cell Energy (fuel cell deal with Conn. regulators)\n",
    " - sale of Pastoria and LV Cogen (assume not)\n",
    " - sale of ECP (assume not)\n",
    " - sale of HPL (assume not).\n",
    "\n",
    "Regards\n",
    "Delainey'''\n",
    "\n",
    "en_doc = en_nlp(example1)\n",
    "\n",
    "\n",
    "# print((w.text, w.pos_) for w in en_doc)\n",
    "entities = en_doc.ents\n",
    "for e in entities:\n",
    "    print e.text, e.label_ , [w.tag_ for w in e]\n",
    "# print en_doc"
   ]
  },
  {
   "cell_type": "code",
   "execution_count": 38,
   "metadata": {
    "collapsed": false
   },
   "outputs": [
    {
     "name": "stdout",
     "output_type": "stream",
     "text": [
      "['__call__', '__class__', '__delattr__', '__doc__', '__format__', '__getattribute__', '__hash__', '__init__', '__new__', '__reduce__', '__reduce_ex__', '__repr__', '__setattr__', '__sizeof__', '__str__', '__subclasshook__', 'add', 'from_package', 'load', 'n_patterns', 'pipe', 'vocab']\n",
      "Rick PERSON [u'NNP']\n",
      "ERCOT ORG [u'NNP']\n",
      "Mexico GPE [u'NNP']\n",
      "Desarco ORG [u'NNP']\n",
      "Ahlstrom ORG [u'NNP']\n",
      "Conn. GPE [u'NNP']\n",
      "Pastoria ORG [u'NNP']\n",
      "LV Cogen ORG [u'NNP', u'NNP']\n",
      "ECP ORG [u'NNP']\n",
      "HPL ORG [u'NNP']\n",
      "Delainey PERSON [u'NNP']\n"
     ]
    }
   ],
   "source": [
    "from spacy.matcher import Matcher\n",
    "from spacy.attrs import ORTH, TAG, LOWER, IS_ALPHA, FLAG63\n",
    "matcher = Matcher(nlp.vocab)\n",
    "print dir(matcher)\n",
    "matcher.add(\"ERCOT\", \"ORG\", {}, [[{ORTH: \"ERCOT\"}]])\n",
    "matcher.add(\"Ahlstrom\", \"ORG\", {}, [[{ORTH: \"Ahlstrom\"}], [{ORTH: \"ahlstrom\"}]])\n",
    "matcher.add(\"Desarco\", \"ORG\", {}, [[{ORTH: \"Desarco\"}], [{ORTH: \"desarco\"}]])\n",
    "matcher.add(\"Delainey\", \"PERSON\", {}, [[{ORTH: \"David\"},{ORTH: \"Delainey\"}], [{ORTH: \"delainey\"}], [{ORTH: \"Delainey\"}]])\n",
    "\n",
    "\n",
    "doc2 = nlp(example1)\n",
    "matcher(doc2)\n",
    "# for m in matches:\n",
    "#     print m\n",
    "entities = doc2.ents\n",
    "for e in entities:\n",
    "    print e.text, e.label_ , [w.tag_ for w in e]\n"
   ]
  },
  {
   "cell_type": "code",
   "execution_count": 46,
   "metadata": {
    "collapsed": false
   },
   "outputs": [
    {
     "name": "stdout",
     "output_type": "stream",
     "text": [
      "your presentation\n",
      "the offsite\n",
      "approximately one hour\n",
      "Topic\n",
      "the 2001 ENA systems plan\n",
      "what\n",
      "what are identified priorities\n",
      "key maintenance\n",
      "new iniatives\n",
      "maybe \n",
      "your view\n",
      "the future\n",
      "some time\n",
      "questions\n",
      "The audience\n",
      "the meeting\n",
      "a pretty good \n",
      "understanding\n",
      "what\n",
      "our systems agenda\n",
      "ENA\n",
      "December 8th\n",
      "the heavy lifting\n",
      "-----------------------------\n",
      "updated nounphrases [[u'your presentation', u'putting'], [u'the offsite', u'for'], [u'approximately one hour', u'have'], [u'Topic', u'focus'], [u'the 2001 ENA systems plan', u'on'], [u'what', u'identified'], [u'what are identified priorities', u'focus'], [u'key maintenance', u'priorities'], [u'new iniatives', u'maintenance'], [u'maybe \\nyour view', u'iniatives'], [u'the future', u'in'], [u'some time', u'leave'], [u'questions', u'for'], [u'The audience', u'come'], [u'the meeting', u'from'], [u'a pretty good \\nunderstanding', u'with'], [u'what', u'is'], [u'our systems agenda', u'is'], [u'ENA', u'for'], [u'December 8th', u'by'], [u'the heavy lifting', u'of']]\n",
      "-----------------------------\n",
      "Beth PERSON [u'NNP']\n",
      "approximately one hour TIME [u'RB', u'CD', u'NN']\n",
      "ENA ORG [u'NN']\n",
      "2001 DATE [u'CD']\n",
      "first ORDINAL [u'JJ']\n",
      "December 8th DATE [u'NNP', u'NN']\n",
      "Tammy Sheppard PERSON [u'NNP', u'NNP']\n",
      "Dorie Hitchcock PERSON [u'NNP', u'NNP']\n"
     ]
    }
   ],
   "source": [
    "example3 = u'''Beth, can you start putting together your presentation for the offsite.  You \n",
    "have approximately one hour.  Topic should focus on the 2001 ENA systems plan \n",
    "(ie) what are identified priorities, key maintenance, new iniatives and maybe \n",
    "your view of where we need to go in the future.  I would leave some time for \n",
    "questions.\n",
    "\n",
    "The audience should come away from the meeting with a pretty good \n",
    "understanding of what is our systems agenda for ENA in 2001.\n",
    "\n",
    "Could you have a first cut by December 8th?\n",
    "\n",
    "Tammy Sheppard and Dorie Hitchcock can do some of the heavy lifting.\n",
    "\n",
    "Regards\n",
    "Delainey\n",
    "'''\n",
    "doc3 = nlp(example3)\n",
    "nchunks = doc3.noun_chunks\n",
    "for nc in nchunks:\n",
    "    print nc\n",
    "print '-----------------------------'\n",
    "nounphrases = [[np.orth_, np.root.head.orth_] for np in doc3.noun_chunks]\n",
    "print 'updated nounphrases', nounphrases\n",
    "print '-----------------------------'\n",
    "entities3 = doc3.ents\n",
    "for e in entities3:\n",
    "    print e.text, e.label_ , [w.tag_ for w in e]"
   ]
  },
  {
   "cell_type": "code",
   "execution_count": null,
   "metadata": {
    "collapsed": true
   },
   "outputs": [],
   "source": []
  }
 ],
 "metadata": {
  "kernelspec": {
   "display_name": "Python 2",
   "language": "python",
   "name": "python2"
  },
  "language_info": {
   "codemirror_mode": {
    "name": "ipython",
    "version": 2
   },
   "file_extension": ".py",
   "mimetype": "text/x-python",
   "name": "python",
   "nbconvert_exporter": "python",
   "pygments_lexer": "ipython2",
   "version": "2.7.12"
  }
 },
 "nbformat": 4,
 "nbformat_minor": 0
}
