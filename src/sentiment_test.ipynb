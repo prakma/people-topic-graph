{
 "cells": [
  {
   "cell_type": "markdown",
   "metadata": {
    "collapsed": false
   },
   "source": [
    "# Sentiment for Each Doc"
   ]
  },
  {
   "cell_type": "code",
   "execution_count": 1,
   "metadata": {
    "collapsed": true
   },
   "outputs": [],
   "source": [
    "import spacy\n",
    "nlp = spacy.load('en')"
   ]
  },
  {
   "cell_type": "code",
   "execution_count": 2,
   "metadata": {
    "collapsed": false
   },
   "outputs": [],
   "source": [
    "import data_generator\n",
    "import parse_enron_file2\n",
    "import random\n",
    "import os\n"
   ]
  },
  {
   "cell_type": "code",
   "execution_count": 10,
   "metadata": {
    "collapsed": false
   },
   "outputs": [
    {
     "name": "stdout",
     "output_type": "stream",
     "text": [
      "processing  /home/mprakash/Documents/enron-data/maildir/davis-d/all_documents/295.\n",
      "Headers---> {'X-cc': 'Ethel Ford <mse238@aol.com>', 'From': 'dana.davis@enron.com', 'Cc': 'mse238@aol.com', 'Bcc': 'mse238@aol.com', 'To': 'rayfordabraham@att.com', 'X-From': 'Dana Davis', 'X-To': 'rayfordabraham@att.com'}\n",
      "Content--->\n",
      "<Ruby.Miles@getronics.com>\n",
      "HILL8314@aol.com\n",
      "\n",
      "\n",
      "\n",
      "raydoggg68@hotmail.com, rayfordabraham@att.com,dimoore@airmail.net, \n",
      "\n",
      "\n",
      "Let's just give the devil a Holy Ghost Fit in the name of Jesus!\n",
      "Father, bless everyone on this list in a special way, open supernatural\n",
      "doors in their life today, give them a double portion of your Spirit as we\n",
      "take back everything that the devil has stolen from us: Health,\n",
      "Finance,Children, Jobs, Homes, Marriages.  Amen.\n",
      "\n",
      "Let's take time to pray.\n",
      "Take  60 seconds & give this a shot!\n",
      "Let's just see satan stop this one.\n",
      "\n",
      "All you do is:\n",
      "1)    simply say a small prayer for the person who sent you this,\n",
      "2)    then send it on to five other people... within hours five people\n",
      "have prayed for you, and you caused a multitude of people to pray to God for\n",
      "other people...then sit back and watch the power of God work in your life\n",
      "for doing the thing that you know He loves.\n",
      "\n",
      "God Bless You!!\n",
      "Flora\n",
      "\n",
      "\n",
      "\n",
      "\n",
      "\n",
      "\n",
      "\n",
      "\n",
      "\n",
      "\n",
      "\n",
      "\n",
      "\n",
      "\n",
      "\n",
      "\n",
      "\n",
      "\n",
      "_________________________________________________________________________\n",
      "Get Your Private, Free E-mail from MSN Hotmail at http://www.hotmail.com.\n",
      "\n",
      "Share information about yourself, create your own public profile at\n",
      "http://profiles.msn.com.\n",
      "\n",
      " - pic09863.pcx\n",
      "\n"
     ]
    }
   ],
   "source": [
    "user_list = data_generator.get_users_generator()\n",
    "random_user = \"\" + random.choice(user_list)\n",
    "# print 'random_user', random_user\n",
    "\n",
    "random_user_files = [x for x in data_generator.generate_file_by_user(random_user)]\n",
    "parser = parse_enron_file2.EnronParser()\n",
    "\n",
    "if(len(random_user_files) > 0):\n",
    "    random_file_name = \"\"+random.choice(random_user_files)\n",
    "#     f = open(random_file_name, 'r')\n",
    "#     content = f.read()\n",
    "#     f.close()\n",
    "    \n",
    "    header_dict, content_text = parser.parse_file(random_file_name)\n",
    "\n",
    "    content = content_text\n",
    "    print \"Headers--->\", header_dict\n",
    "    print \"Content--->\"\n",
    "    \n",
    "    print content_text\n",
    "else:\n",
    "    print random_user, 'No all_documents folder for this user. Try next random choice.'\n",
    "    content = '0'\n",
    "    random_file_name = None\n"
   ]
  },
  {
   "cell_type": "code",
   "execution_count": 11,
   "metadata": {
    "collapsed": false,
    "scrolled": true
   },
   "outputs": [
    {
     "name": "stdout",
     "output_type": "stream",
     "text": [
      "<Ruby.\n",
      "sentiment score---> 0.0\n",
      "Miles@getronics.com\n",
      "sentiment score---> 0.0\n",
      ">\n",
      "HILL8314@aol.com\n",
      "\n",
      "\n",
      "\n",
      "raydoggg68@hotmail.com, rayfordabraham@att.com,dimoore@airmail.net, \n",
      "\n",
      "\n",
      "Let's just give the devil a Holy Ghost Fit in the name of Jesus!\n",
      "\n",
      "sentiment score---> 0.0\n",
      "Father, bless everyone on this list in a special way, open supernatural\n",
      "doors in their life today, give them a double portion of your Spirit as we\n",
      "take back everything that the devil has stolen from us: Health,\n",
      "Finance,Children, Jobs, Homes, Marriages.  \n",
      "sentiment score---> 0.0\n",
      "Amen.\n",
      "\n",
      "\n",
      "sentiment score---> 0.0\n",
      "Let's take time to pray.\n",
      "\n",
      "sentiment score---> 0.0\n",
      "Take  60 seconds & give this a shot!\n",
      "\n",
      "sentiment score---> 0.0\n",
      "Let's just see satan stop this one.\n",
      "\n",
      "\n",
      "sentiment score---> 0.0\n",
      "All you do is:\n",
      "1)    simply say a small prayer for the person who sent you this,\n",
      "2)    then send it on to five other people... within hours five people\n",
      "have prayed for you, and you caused a multitude of people to pray to God for\n",
      "other people...then sit back and watch the power of God work in your life\n",
      "for doing the thing that you know\n",
      "sentiment score---> 0.0\n",
      "He loves.\n",
      "\n",
      "\n",
      "sentiment score---> 0.0\n",
      "God Bless You!!\n",
      "\n",
      "sentiment score---> 0.0\n",
      "Flora\n",
      "\n",
      "\n",
      "\n",
      "\n",
      "\n",
      "\n",
      "\n",
      "\n",
      "\n",
      "\n",
      "\n",
      "\n",
      "\n",
      "\n",
      "\n",
      "\n",
      "\n",
      "\n",
      "_________________________________________________________________________\n",
      "Get Your Private, Free E-mail from MSN Hotmail at http://www.hotmail.com.\n",
      "\n",
      "\n",
      "sentiment score---> 0.0\n",
      "Share information about yourself, create your own public profile at\n",
      "http://profiles.msn.com.\n",
      "\n",
      " \n",
      "sentiment score---> 0.0\n",
      "- pic09863.pcx\n",
      "\n",
      "sentiment score---> 0.0\n",
      "doc sentiment score 0.0\n"
     ]
    }
   ],
   "source": [
    "# print 'Train', random_file_name, 'as suspicious ?', suspicious\n",
    "\n",
    "doc = nlp(unicode(content, \"utf-8\"))\n",
    "for x in doc.sents:\n",
    "    print x\n",
    "    print 'sentiment score--->', x.sentiment\n",
    "\n",
    "print 'doc sentiment score', doc.sentiment\n"
   ]
  },
  {
   "cell_type": "code",
   "execution_count": null,
   "metadata": {
    "collapsed": true
   },
   "outputs": [],
   "source": []
  }
 ],
 "metadata": {
  "hide_input": false,
  "kernelspec": {
   "display_name": "Python 2",
   "language": "python",
   "name": "python2"
  },
  "language_info": {
   "codemirror_mode": {
    "name": "ipython",
    "version": 2
   },
   "file_extension": ".py",
   "mimetype": "text/x-python",
   "name": "python",
   "nbconvert_exporter": "python",
   "pygments_lexer": "ipython2",
   "version": "2.7.12"
  }
 },
 "nbformat": 4,
 "nbformat_minor": 0
}
